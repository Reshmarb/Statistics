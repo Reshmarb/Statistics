{
 "cells": [
  {
   "cell_type": "code",
   "execution_count": 1,
   "id": "5d688b82",
   "metadata": {},
   "outputs": [
    {
     "name": "stdout",
     "output_type": "stream",
     "text": [
      "mean is :  5.5\n"
     ]
    }
   ],
   "source": [
    "#mean\n",
    "\n",
    "class Solution(object):\n",
    "    def mean(self,nums):\n",
    "        return sum(nums)/len(nums)\n",
    "    \n",
    "    \n",
    "nums=[1,2,3,4,5,6,7,8,9,10]\n",
    "sol=Solution()\n",
    "print(\"mean is : \",sol.mean(nums))"
   ]
  },
  {
   "cell_type": "code",
   "execution_count": 2,
   "id": "91b50edb",
   "metadata": {},
   "outputs": [
    {
     "name": "stdout",
     "output_type": "stream",
     "text": [
      "5.5\n"
     ]
    }
   ],
   "source": [
    "import numpy as np\n",
    "\n",
    "num=[1,2,3,4,5,6,7,8,9,10]\n",
    "mean_value=np.mean(num)\n",
    "print(mean_value)"
   ]
  },
  {
   "cell_type": "code",
   "execution_count": 3,
   "id": "0320857c",
   "metadata": {},
   "outputs": [
    {
     "name": "stdout",
     "output_type": "stream",
     "text": [
      "Variance is :  8.25\n"
     ]
    }
   ],
   "source": [
    "# variance\n",
    "\n",
    "class Solution(object):\n",
    "    def variance(self, nums):\n",
    "        if len(nums) == 0:\n",
    "            return None\n",
    "        mean_value = sum(nums) / len(nums)\n",
    "        var = sum((x - mean_value) ** 2 for x in nums) / len(nums)\n",
    "        return var\n",
    "\n",
    "nums = [1, 2, 3, 4, 5, 6, 7, 8, 9, 10]\n",
    "sol=Solution()\n",
    "print(\"Variance is : \",sol.variance(nums))"
   ]
  },
  {
   "cell_type": "code",
   "execution_count": 4,
   "id": "0abc3d33",
   "metadata": {},
   "outputs": [
    {
     "name": "stdout",
     "output_type": "stream",
     "text": [
      "created matrix is : \n",
      "[5, 6, 3]\n",
      "[1, 7, 3]\n",
      "[6, 9, 8]\n"
     ]
    }
   ],
   "source": [
    "class Solution(object):\n",
    "    def create_matrix(self,row,col,elements):\n",
    "        matrix=[]\n",
    "        index=0\n",
    "        for i in range(row):\n",
    "            row=[]\n",
    "            for j in range(col):\n",
    "                row.append(elements[index])\n",
    "                index+=1\n",
    "            matrix.append(row)\n",
    "        return matrix\n",
    "    \n",
    "sol=Solution()\n",
    "row,col=3,3\n",
    "elements=[5,6,3,1,7,3,6,9,8]\n",
    "created_matrix=sol.create_matrix(row,col,elements)\n",
    "print(\"created matrix is : \")\n",
    "for row in created_matrix:\n",
    "    print(row)\n",
    "        \n",
    "        "
   ]
  },
  {
   "cell_type": "code",
   "execution_count": 5,
   "id": "01ee19ea",
   "metadata": {},
   "outputs": [
    {
     "name": "stdout",
     "output_type": "stream",
     "text": [
      "matrix is : \n",
      "[4, 6, 3]\n",
      "[32, 35, 36]\n",
      "[1, 8, 6]\n"
     ]
    }
   ],
   "source": [
    "def multi_matrix(matrix1,matrix2):\n",
    "    result=[]\n",
    "    for i in range(len(matrix1)):\n",
    "        row=[]\n",
    "        for j in range(len(matrix1[0])):\n",
    "            row.append(matrix1[i][j]*matrix2[i][j])\n",
    "        result.append(row)\n",
    "    return result\n",
    "\n",
    "matrix1=[\n",
    "    [1,2,3],\n",
    "    [4,5,6],\n",
    "    [1,2,3]\n",
    "]\n",
    "\n",
    "matrix2=[\n",
    "    [4,3,1],\n",
    "    [8,7,6],\n",
    "    [1,4,2]\n",
    "]\n",
    "            \n",
    "multiplied_matrix=multi_matrix(matrix1,matrix2)\n",
    "print(\"matrix is : \")\n",
    "for row in multiplied_matrix:\n",
    "    print(row)"
   ]
  },
  {
   "cell_type": "code",
   "execution_count": 6,
   "id": "cd0c9895",
   "metadata": {},
   "outputs": [],
   "source": [
    "import numpy as np\n",
    "import pandas as pd"
   ]
  },
  {
   "cell_type": "code",
   "execution_count": 7,
   "id": "ab1c2ec3",
   "metadata": {},
   "outputs": [
    {
     "data": {
      "text/plain": [
       "16.3"
      ]
     },
     "execution_count": 7,
     "metadata": {},
     "output_type": "execute_result"
    }
   ],
   "source": [
    "data = [12, 15, 13, 17, 19, 15, 13, 18, 20, 21]\n",
    "\n",
    "mean=np.mean(data)\n",
    "mean\n"
   ]
  },
  {
   "cell_type": "code",
   "execution_count": 8,
   "id": "78e29e20",
   "metadata": {},
   "outputs": [
    {
     "data": {
      "text/plain": [
       "9.01"
      ]
     },
     "execution_count": 8,
     "metadata": {},
     "output_type": "execute_result"
    }
   ],
   "source": [
    "variance=np.var(data)\n",
    "variance\n"
   ]
  },
  {
   "cell_type": "code",
   "execution_count": 9,
   "id": "c6f72100",
   "metadata": {},
   "outputs": [
    {
     "data": {
      "text/plain": [
       "16.0"
      ]
     },
     "execution_count": 9,
     "metadata": {},
     "output_type": "execute_result"
    }
   ],
   "source": [
    "median=np.median(data)\n",
    "median"
   ]
  },
  {
   "cell_type": "code",
   "execution_count": 10,
   "id": "9368ec13",
   "metadata": {},
   "outputs": [
    {
     "name": "stdout",
     "output_type": "stream",
     "text": [
      "Requirement already satisfied: scipy in c:\\users\\reshma r b\\miniconda3\\lib\\site-packages (1.10.0)\n",
      "Requirement already satisfied: numpy<1.27.0,>=1.19.5 in c:\\users\\reshma r b\\miniconda3\\lib\\site-packages (from scipy) (1.23.5)\n"
     ]
    },
    {
     "name": "stderr",
     "output_type": "stream",
     "text": [
      "\n",
      "[notice] A new release of pip is available: 23.1.2 -> 24.1.2\n",
      "[notice] To update, run: python.exe -m pip install --upgrade pip\n"
     ]
    }
   ],
   "source": [
    "!pip install scipy"
   ]
  },
  {
   "cell_type": "code",
   "execution_count": 11,
   "id": "4684b03b",
   "metadata": {},
   "outputs": [
    {
     "name": "stderr",
     "output_type": "stream",
     "text": [
      "C:\\Users\\RESHMA R B\\AppData\\Local\\Temp\\ipykernel_11288\\186050373.py:2: FutureWarning: Unlike other reduction functions (e.g. `skew`, `kurtosis`), the default behavior of `mode` typically preserves the axis it acts along. In SciPy 1.11.0, this behavior will change: the default value of `keepdims` will become False, the `axis` over which the statistic is taken will be eliminated, and the value None will no longer be accepted. Set `keepdims` to True or False to avoid this warning.\n",
      "  mode=stats.mode(data)\n"
     ]
    },
    {
     "data": {
      "text/plain": [
       "ModeResult(mode=array([13]), count=array([2]))"
      ]
     },
     "execution_count": 11,
     "metadata": {},
     "output_type": "execute_result"
    }
   ],
   "source": [
    "from scipy import stats\n",
    "mode=stats.mode(data)\n",
    "mode"
   ]
  },
  {
   "cell_type": "code",
   "execution_count": 12,
   "id": "3bb9faef",
   "metadata": {},
   "outputs": [
    {
     "data": {
      "text/plain": [
       "13"
      ]
     },
     "execution_count": 12,
     "metadata": {},
     "output_type": "execute_result"
    }
   ],
   "source": [
    "mode_value = mode.mode[0]\n",
    "mode_value\n"
   ]
  },
  {
   "cell_type": "code",
   "execution_count": 13,
   "id": "ce471031",
   "metadata": {},
   "outputs": [
    {
     "data": {
      "text/plain": [
       "3.0016662039607267"
      ]
     },
     "execution_count": 13,
     "metadata": {},
     "output_type": "execute_result"
    }
   ],
   "source": [
    "SD=np.std(data)\n",
    "SD"
   ]
  },
  {
   "cell_type": "code",
   "execution_count": 14,
   "id": "0448b28f",
   "metadata": {},
   "outputs": [
    {
     "data": {
      "text/plain": [
       "9"
      ]
     },
     "execution_count": 14,
     "metadata": {},
     "output_type": "execute_result"
    }
   ],
   "source": [
    "range=np.ptp(data)\n",
    "range"
   ]
  },
  {
   "cell_type": "code",
   "execution_count": 15,
   "id": "b413f64f",
   "metadata": {},
   "outputs": [],
   "source": [
    "import matplotlib.pyplot as plt\n",
    "import scipy.stats as stats"
   ]
  },
  {
   "cell_type": "code",
   "execution_count": 16,
   "id": "0af01c83",
   "metadata": {},
   "outputs": [
    {
     "data": {
      "text/plain": [
       "array([-1.38317084, -2.50161802, -0.32971288,  0.26050324,  0.37942642,\n",
       "       -1.22033863, -0.06756318, -1.38020055,  0.54501161, -0.97500787,\n",
       "        1.25728054,  0.5149099 , -0.193552  , -0.75332247, -2.20328907,\n",
       "        0.8312676 , -0.67370601,  0.15734271, -0.04770401,  0.25905269,\n",
       "       -1.20531596,  0.03021189, -0.85117668,  1.58611377,  0.80458299,\n",
       "       -0.32366393, -0.8115055 , -0.10211438,  1.88662085, -1.34480589,\n",
       "        0.29838624, -1.4558829 ,  1.12439081, -0.24508023,  0.71628434,\n",
       "        0.26407743,  1.52211268, -0.61573028,  0.37525347,  1.30950241,\n",
       "        0.58949866,  1.19574916,  1.39184472,  1.40702998, -1.37621497,\n",
       "        1.05705896,  3.32556931, -1.54164205,  0.06552242, -2.40442565,\n",
       "       -0.08504636, -0.59696328,  0.48571332,  1.09731696, -1.35825916,\n",
       "       -1.88145575,  0.94023324,  0.6472984 ,  0.39269831,  1.57964692,\n",
       "        0.17989435,  1.74377217, -0.88775079,  0.75371622, -0.68560344,\n",
       "       -0.35360281,  1.7641743 ,  1.09677909,  0.48406109, -2.09562828,\n",
       "        2.30328578,  0.07888457,  0.14839151,  0.16140095,  0.22710798,\n",
       "        0.47665924, -0.40277019, -0.23497858, -0.50568857,  1.03213691,\n",
       "       -2.55507943, -0.36422676, -0.02548768, -0.77200341, -0.50795276,\n",
       "        0.67771351,  2.65377927,  1.77710972,  0.44365082,  0.30559903,\n",
       "        1.51727798,  1.28274084, -0.60899515,  0.37926586,  0.06774349,\n",
       "       -1.32235003,  1.08849626,  0.01645743, -1.55177267,  0.80823969])"
      ]
     },
     "execution_count": 16,
     "metadata": {},
     "output_type": "execute_result"
    }
   ],
   "source": [
    "mu=0\n",
    "sigma=1\n",
    "\n",
    "#generate random numbers\n",
    "\n",
    "data=np.random.normal(mu,sigma,100)\n",
    "data"
   ]
  },
  {
   "cell_type": "code",
   "execution_count": 17,
   "id": "21a38b3a",
   "metadata": {},
   "outputs": [
    {
     "data": {
      "text/plain": [
       "(array([0.15304434, 0.05101478, 0.05101478, 0.05101478, 0.        ,\n",
       "        0.2550739 , 0.30608868, 0.        , 0.20405912, 0.35710346,\n",
       "        0.15304434, 0.30608868, 0.30608868, 0.45913302, 0.45913302,\n",
       "        0.35710346, 0.2550739 , 0.20405912, 0.30608868, 0.20405912,\n",
       "        0.20405912, 0.15304434, 0.15304434, 0.        , 0.05101478,\n",
       "        0.        , 0.05101478, 0.        , 0.        , 0.05101478]),\n",
       " array([-2.55507943, -2.35905781, -2.16303618, -1.96701456, -1.77099293,\n",
       "        -1.57497131, -1.37894968, -1.18292806, -0.98690643, -0.79088481,\n",
       "        -0.59486319, -0.39884156, -0.20281994, -0.00679831,  0.18922331,\n",
       "         0.38524494,  0.58126656,  0.77728819,  0.97330981,  1.16933144,\n",
       "         1.36535306,  1.56137469,  1.75739631,  1.95341794,  2.14943956,\n",
       "         2.34546118,  2.54148281,  2.73750443,  2.93352606,  3.12954768,\n",
       "         3.32556931]),\n",
       " <BarContainer object of 30 artists>)"
      ]
     },
     "execution_count": 17,
     "metadata": {},
     "output_type": "execute_result"
    },
    {
     "data": {
      "image/png": "[encoded data removed]",
      "text/plain": [
       "<Figure size 640x480 with 1 Axes>"
      ]
     },
     "metadata": {},
     "output_type": "display_data"
    }
   ],
   "source": [
    "#plot the distribution\n",
    "\n",
    "plt.hist(data, bins=30, density=True, alpha=0.6, color='Blue')"
   ]
  },
  {
   "cell_type": "code",
   "execution_count": 18,
   "id": "3b77a079",
   "metadata": {},
   "outputs": [
    {
     "data": {
      "text/plain": [
       "<function matplotlib.pyplot.show(close=None, block=None)>"
      ]
     },
     "execution_count": 18,
     "metadata": {},
     "output_type": "execute_result"
    },
    {
     "data": {
      "image/png": "[encoded data removed]",
      "text/plain": [
       "<Figure size 640x480 with 1 Axes>"
      ]
     },
     "metadata": {},
     "output_type": "display_data"
    }
   ],
   "source": [
    "# plot histogram\n",
    "\n",
    "plt.hist(data,bins=5,edgecolor='black')\n",
    "plt.title('Histogram of data')\n",
    "plt.xlabel('Value')\n",
    "plt.ylabel('Frequency')\n",
    "plt.grid(True)\n",
    "plt.show"
   ]
  },
  {
   "cell_type": "code",
   "execution_count": 19,
   "id": "28eff8c5",
   "metadata": {},
   "outputs": [
    {
     "data": {
      "text/plain": [
       "<function matplotlib.pyplot.show(close=None, block=None)>"
      ]
     },
     "execution_count": 19,
     "metadata": {},
     "output_type": "execute_result"
    },
    {
     "data": {
      "image/png": "[encoded data removed]",
      "text/plain": [
       "<Figure size 640x480 with 1 Axes>"
      ]
     },
     "metadata": {},
     "output_type": "display_data"
    }
   ],
   "source": [
    "plt.boxplot(data)\n",
    "plt.title('Box plot')\n",
    "plt.xlabel('Value')\n",
    "plt.ylabel('Frequency')\n",
    "plt.grid(False)\n",
    "plt.show"
   ]
  },
  {
   "cell_type": "code",
   "execution_count": 20,
   "id": "6e438954",
   "metadata": {},
   "outputs": [
    {
     "data": {
      "image/png": "[encoded data removed]",
      "text/plain": [
       "<Figure size 640x480 with 1 Axes>"
      ]
     },
     "metadata": {},
     "output_type": "display_data"
    }
   ],
   "source": [
    "x = [1, 2, 3, 4, 5]\n",
    "y = [2, 3, 5, 7, 11]\n",
    "\n",
    "\n",
    "\n",
    "plt.scatter(x,y,color='blue',marker='o')\n",
    "plt.title('Scatter plot')\n",
    "plt.xlabel('Value')\n",
    "plt.ylabel('Frequency')\n",
    "plt.grid(True)\n",
    "plt.show()"
   ]
  },
  {
   "cell_type": "code",
   "execution_count": 23,
   "id": "70e02dc3",
   "metadata": {},
   "outputs": [
    {
     "data": {
      "image/png": "[encoded data removed]",
      "text/plain": [
       "<Figure size 640x480 with 1 Axes>"
      ]
     },
     "metadata": {},
     "output_type": "display_data"
    }
   ],
   "source": [
    "# barplot\n",
    "\n",
    "labels=['A','B','C','D']\n",
    "values=[10,15,7,11]\n",
    "plt.bar(labels,values,color='black')\n",
    "plt.title('Bar Plot')\n",
    "plt.xlabel('Values')\n",
    "plt.ylabel('Frequency')\n",
    "plt.grid(True)\n",
    "plt.show()"
   ]
  },
  {
   "cell_type": "code",
   "execution_count": 24,
   "id": "8cebbc2a",
   "metadata": {},
   "outputs": [
    {
     "data": {
      "image/png": "[encoded data removed]",
      "text/plain": [
       "<Figure size 640x480 with 1 Axes>"
      ]
     },
     "metadata": {},
     "output_type": "display_data"
    }
   ],
   "source": [
    "plt.pie(values, labels=labels, autopct='%1.1f%%', shadow=True, startangle=140)\n",
    "plt.title('Pie Chart')\n",
    "plt.axis('equal')  # Equal aspect ratio ensures that pie is drawn as a circle.\n",
    "plt.show()\n"
   ]
  },
  {
   "cell_type": "code",
   "execution_count": 25,
   "id": "60bfef25",
   "metadata": {},
   "outputs": [
    {
     "name": "stdout",
     "output_type": "stream",
     "text": [
      "Probability of X < 1 in N(0,1): 0.8413447460685429\n",
      "PDF at X = 0 in N(0,1): 0.3989422804014327\n"
     ]
    }
   ],
   "source": [
    "import scipy.stats as stats\n",
    "\n",
    "# Parameters for normal distribution\n",
    "mean = 0\n",
    "std_dev = 1\n",
    "\n",
    "# Calculate probability using cumulative distribution function (CDF)\n",
    "prob_less_than_1 = stats.norm.cdf(1, mean, std_dev)\n",
    "print(\"Probability of X < 1 in N(0,1):\", prob_less_than_1)\n",
    "\n",
    "# Calculate probability using probability density function (PDF)\n",
    "pdf_at_0 = stats.norm.pdf(0, mean, std_dev)\n",
    "print(\"PDF at X = 0 in N(0,1):\", pdf_at_0)\n"
   ]
  },
  {
   "cell_type": "code",
   "execution_count": 26,
   "id": "9acb2e49",
   "metadata": {},
   "outputs": [
    {
     "name": "stdout",
     "output_type": "stream",
     "text": [
      "Probability of 5 successes in 10 trials with p=0.5: 0.24609375\n",
      "Probability of X <= 2 in Binomial(10, 0.5): 0.0546875\n"
     ]
    }
   ],
   "source": [
    "import scipy.stats as stats\n",
    "\n",
    "# Parameters for binomial distribution\n",
    "n = 10  # Number of trials\n",
    "p = 0.5  # Probability of success\n",
    "\n",
    "# Calculate probability mass function (PMF)\n",
    "pmf_at_5 = stats.binom.pmf(5, n, p)\n",
    "print(\"Probability of 5 successes in 10 trials with p=0.5:\", pmf_at_5)\n",
    "\n",
    "# Calculate cumulative distribution function (CDF)\n",
    "cdf_less_than_3 = stats.binom.cdf(2, n, p)\n",
    "print(\"Probability of X <= 2 in Binomial(10, 0.5):\", cdf_less_than_3)\n"
   ]
  },
  {
   "cell_type": "code",
   "execution_count": 27,
   "id": "b95e2ca9",
   "metadata": {},
   "outputs": [
    {
     "name": "stdout",
     "output_type": "stream",
     "text": [
      "Mean: 3.888888888888889\n",
      "Median: 4\n",
      "Mode: [5]\n",
      "Variance: 2.3209876543209873\n",
      "Standard Deviation: 1.5234788000891208\n"
     ]
    }
   ],
   "source": [
    "def mean(data):\n",
    "    return sum(data) / len(data)\n",
    "\n",
    "def median(data):\n",
    "    sorted_data = sorted(data)\n",
    "    n = len(sorted_data)\n",
    "    mid = n // 2\n",
    "    if n % 2 == 0:\n",
    "        return (sorted_data[mid - 1] + sorted_data[mid]) / 2\n",
    "    else:\n",
    "        return sorted_data[mid]\n",
    "\n",
    "def mode(data):\n",
    "    frequency = {}\n",
    "    for item in data:\n",
    "        frequency[item] = frequency.get(item, 0) + 1\n",
    "    max_freq = max(frequency.values())\n",
    "    modes = [key for key, value in frequency.items() if value == max_freq]\n",
    "    return modes\n",
    "\n",
    "def variance(data):\n",
    "    m = mean(data)\n",
    "    return sum((x - m) ** 2 for x in data) / len(data)\n",
    "\n",
    "def standard_deviation(data):\n",
    "    return variance(data) ** 0.5\n",
    "\n",
    "# Example data\n",
    "data = [1, 2, 3, 4, 4, 5, 5, 5, 6]\n",
    "\n",
    "print(\"Mean:\", mean(data))\n",
    "print(\"Median:\", median(data))\n",
    "print(\"Mode:\", mode(data))\n",
    "print(\"Variance:\", variance(data))\n",
    "print(\"Standard Deviation:\", standard_deviation(data))\n"
   ]
  },
  {
   "cell_type": "code",
   "execution_count": 28,
   "id": "3c322d46",
   "metadata": {},
   "outputs": [
    {
     "name": "stdout",
     "output_type": "stream",
     "text": [
      "The average of list values is : 2\n"
     ]
    }
   ],
   "source": [
    "# Python code to demonstrate the working of \n",
    "# mean()\n",
    "\n",
    "# importing statistics to handle statistical\n",
    "# operations \n",
    "import statistics \n",
    "\n",
    "# initializing list \n",
    "li = [1, 2, 3, 3, 2, 2, 2, 1] \n",
    "\n",
    "# using mean() to calculate average of list\n",
    "# elements \n",
    "print (\"The average of list values is : \",end=\"\") \n",
    "print (statistics.mean(li))\n"
   ]
  },
  {
   "cell_type": "code",
   "execution_count": 29,
   "id": "89fe8d7b",
   "metadata": {},
   "outputs": [
    {
     "name": "stdout",
     "output_type": "stream",
     "text": [
      "Median of data-set 1 is 5\n",
      "Median of data-set 2 is 5.9\n",
      "Median of data-set 3 is 2\n",
      "Median of data-set 4 is -5\n",
      "Median of data-set 5 is 0.0\n"
     ]
    }
   ],
   "source": [
    "# Python code to demonstrate the \n",
    "# working of median() on various \n",
    "# range of data-sets \n",
    "\n",
    "# importing the statistics module \n",
    "from statistics import median \n",
    "\n",
    "# Importing fractions module as fr \n",
    "from fractions import Fraction as fr \n",
    "\n",
    "# tuple of positive integer numbers \n",
    "data1 = (2, 3, 4, 5, 7, 9, 11) \n",
    "\n",
    "# tuple of floating point values \n",
    "data2 = (2.4, 5.1, 6.7, 8.9) \n",
    "\n",
    "# tuple of fractional numbers \n",
    "data3 = (fr(1, 2), fr(44, 12), \n",
    "\t\tfr(10, 3), fr(2, 3)) \n",
    "\n",
    "# tuple of a set of negative integers \n",
    "data4 = (-5, -1, -12, -19, -3) \n",
    "\n",
    "# tuple of set of positive \n",
    "# and negative integers \n",
    "data5 = (-1, -2, -3, -4, 4, 3, 2, 1) \n",
    "\n",
    "# Printing the median of above datasets \n",
    "print(\"Median of data-set 1 is % s\" % (median(data1))) \n",
    "print(\"Median of data-set 2 is % s\" % (median(data2))) \n",
    "print(\"Median of data-set 3 is % s\" % (median(data3))) \n",
    "print(\"Median of data-set 4 is % s\" % (median(data4))) \n",
    "print(\"Median of data-set 5 is % s\" % (median(data5)))\n"
   ]
  },
  {
   "cell_type": "code",
   "execution_count": 30,
   "id": "1c9abbb4",
   "metadata": {},
   "outputs": [
    {
     "name": "stdout",
     "output_type": "stream",
     "text": [
      "Mean: 9.333333333333334\n",
      "Median: 8.0\n",
      "Mode: 2\n",
      "Standard Deviation: 5.981452814975453\n",
      "Variance: 35.77777777777778\n",
      "Range: 18\n",
      "Quartiles: [ 5.  8. 12.]\n"
     ]
    }
   ],
   "source": [
    "import numpy as np\n",
    "import pandas as pd\n",
    "\n",
    "# Sample data\n",
    "data = [2, 3, 5, 6, 8, 10, 12, 18, 20]\n",
    "\n",
    "# Mean\n",
    "mean = np.mean(data)\n",
    "print(f\"Mean: {mean}\")\n",
    "\n",
    "# Median\n",
    "median = np.median(data)\n",
    "print(f\"Median: {median}\")\n",
    "\n",
    "# Mode\n",
    "mode = pd.Series(data).mode()[0]\n",
    "print(f\"Mode: {mode}\")\n",
    "\n",
    "# Standard Deviation\n",
    "std_dev = np.std(data)\n",
    "print(f\"Standard Deviation: {std_dev}\")\n",
    "\n",
    "# Variance\n",
    "variance = np.var(data)\n",
    "print(f\"Variance: {variance}\")\n",
    "\n",
    "# Range\n",
    "range_value = np.ptp(data)  # peak to peak\n",
    "print(f\"Range: {range_value}\")\n",
    "\n",
    "# Quartiles\n",
    "quartiles = np.percentile(data, [25, 50, 75])\n",
    "print(f\"Quartiles: {quartiles}\")\n"
   ]
  },
  {
   "cell_type": "code",
   "execution_count": 34,
   "id": "02e01ae5",
   "metadata": {},
   "outputs": [
    {
     "data": {
      "image/png": "[encoded data removed]",
      "text/plain": [
       "<Figure size 640x480 with 1 Axes>"
      ]
     },
     "metadata": {},
     "output_type": "display_data"
    }
   ],
   "source": [
    "# Unifrom Distribution\n",
    "\n",
    "import matplotlib.pyplot as plt\n",
    "\n",
    "a,b=0,10\n",
    "uniform_data=np.random.uniform(0,100)\n",
    "\n",
    "plt.hist(uniform_data,bins=30,color='green',density=True,alpha=0.8)\n",
    "plt.title('Uniform Distribution')\n",
    "plt.xlabel('Frequency')\n",
    "plt.ylabel('Values')\n",
    "plt.grid(True)\n",
    "plt.show()"
   ]
  },
  {
   "cell_type": "code",
   "execution_count": 37,
   "id": "eda2e8f1",
   "metadata": {},
   "outputs": [
    {
     "data": {
      "image/png": "[encoded data removed]",
      "text/plain": [
       "<Figure size 640x480 with 1 Axes>"
      ]
     },
     "metadata": {},
     "output_type": "display_data"
    }
   ],
   "source": [
    "# Normal Distribution\n",
    "\n",
    "mu=10\n",
    "sigma=5\n",
    "normal_data=np.random.normal(mu,sigma,2000)\n",
    "\n",
    "plt.hist(normal_data,bins=10,density=True,alpha=0.9,color='pink')\n",
    "plt.title('Normal Distribution')\n",
    "plt.xlabel('Frequency')\n",
    "plt.ylabel('Values')\n",
    "plt.grid(True)\n",
    "plt.show()"
   ]
  },
  {
   "cell_type": "code",
   "execution_count": 39,
   "id": "7ee5321e",
   "metadata": {},
   "outputs": [
    {
     "name": "stdout",
     "output_type": "stream",
     "text": [
      "                            OLS Regression Results                            \n",
      "==============================================================================\n",
      "Dep. Variable:                      y   R-squared:                       0.562\n",
      "Model:                            OLS   Adj. R-squared:                  0.500\n",
      "Method:                 Least Squares   F-statistic:                     9.000\n",
      "Date:                Mon, 15 Jul 2024   Prob (F-statistic):             0.0199\n",
      "Time:                        11:14:16   Log-Likelihood:                -17.587\n",
      "No. Observations:                   9   AIC:                             39.17\n",
      "Df Residuals:                       7   BIC:                             39.57\n",
      "Df Model:                           1                                         \n",
      "Covariance Type:            nonrobust                                         \n",
      "==============================================================================\n",
      "                 coef    std err          t      P>|t|      [0.025      0.975]\n",
      "------------------------------------------------------------------------------\n",
      "const          8.7500      1.407      6.220      0.000       5.423      12.077\n",
      "x1            -0.7500      0.250     -3.000      0.020      -1.341      -0.159\n",
      "==============================================================================\n",
      "Omnibus:                        6.263   Durbin-Watson:                   1.333\n",
      "Prob(Omnibus):                  0.044   Jarque-Bera (JB):                2.266\n",
      "Skew:                           1.192   Prob(JB):                        0.322\n",
      "Kurtosis:                       3.599   Cond. No.                         12.6\n",
      "==============================================================================\n",
      "\n",
      "Notes:\n",
      "[1] Standard Errors assume that the covariance matrix of the errors is correctly specified.\n",
      "Predictions: [8.   7.25 6.5  5.75 5.   4.25 3.5  2.75 2.  ]\n"
     ]
    },
    {
     "name": "stderr",
     "output_type": "stream",
     "text": [
      "C:\\Users\\RESHMA R B\\miniconda3\\lib\\site-packages\\scipy\\stats\\_stats_py.py:1736: UserWarning: kurtosistest only valid for n>=20 ... continuing anyway, n=9\n",
      "  warnings.warn(\"kurtosistest only valid for n>=20 ... continuing \"\n"
     ]
    }
   ],
   "source": [
    "#Regression Analysis\n",
    "\n",
    "import statsmodels.api as sm\n",
    "\n",
    "x=np.array([1,2,3,4,5,6,7,8,9])\n",
    "y=np.array([9,8,7,5,4,3,2,1,6])\n",
    "\n",
    "# Adding a constant for intercept\n",
    "x=sm.add_constant(x)\n",
    "\n",
    "#Building the model\n",
    "\n",
    "model = sm.OLS(y,x).fit()\n",
    "\n",
    "print(model.summary())\n",
    "\n",
    "\n",
    "\n",
    "\n",
    "# Predictions\n",
    "predictions = model.predict(x)\n",
    "print(f\"Predictions: {predictions}\")\n"
   ]
  },
  {
   "cell_type": "code",
   "execution_count": 1,
   "id": "13d47a90",
   "metadata": {},
   "outputs": [
    {
     "name": "stdout",
     "output_type": "stream",
     "text": [
      "Buddy\n",
      "Buddy says Woof!\n"
     ]
    }
   ],
   "source": [
    "class Animal:\n",
    "    def __init__(self, name, species):\n",
    "        self.name = name\n",
    "        self.species = species\n",
    "    \n",
    "    def make_sound(self, sound):\n",
    "        print(f'{self.name} says {sound}')\n",
    "\n",
    "# Creating objects (instances of the class)\n",
    "dog = Animal('Buddy', 'Dog')\n",
    "cat = Animal('Whiskers', 'Cat')\n",
    "\n",
    "# Accessing attributes and methods\n",
    "print(dog.name)  # Output: Buddy\n",
    "dog.make_sound('Woof!')  # Output: Buddy says Woof!\n",
    "\n"
   ]
  },
  {
   "cell_type": "code",
   "execution_count": 2,
   "id": "efa52f7b",
   "metadata": {},
   "outputs": [
    {
     "name": "stdout",
     "output_type": "stream",
     "text": [
      "Dog\n",
      "Rex fetches the ball\n"
     ]
    }
   ],
   "source": [
    "class Dog(Animal):\n",
    "    def __init__(self, name, breed):\n",
    "        super().__init__(name, 'Dog')\n",
    "        self.breed = breed\n",
    "    \n",
    "    def fetch(self, item):\n",
    "        print(f'{self.name} fetches the {item}')\n",
    "\n",
    "# Creating an object of the derived class\n",
    "my_dog = Dog('Rex', 'Golden Retriever')\n",
    "\n",
    "# Accessing attributes and methods\n",
    "print(my_dog.species)  # Output: Dog\n",
    "my_dog.fetch('ball')  # Output: Rex fetches the ball\n"
   ]
  },
  {
   "cell_type": "code",
   "execution_count": 3,
   "id": "c07e9131",
   "metadata": {},
   "outputs": [
    {
     "name": "stdout",
     "output_type": "stream",
     "text": [
      "$500 deposited. New balance: $1500\n",
      "$200 withdrawn. New balance: $1300\n"
     ]
    }
   ],
   "source": [
    "class BankAccount:\n",
    "    def __init__(self, account_number, balance):\n",
    "        self.__account_number = account_number  # Private attribute\n",
    "        self.__balance = balance  # Private attribute\n",
    "    \n",
    "    def deposit(self, amount):\n",
    "        self.__balance += amount\n",
    "        print(f'${amount} deposited. New balance: ${self.__balance}')\n",
    "    \n",
    "    def withdraw(self, amount):\n",
    "        if amount <= self.__balance:\n",
    "            self.__balance -= amount\n",
    "            print(f'${amount} withdrawn. New balance: ${self.__balance}')\n",
    "        else:\n",
    "            print('Insufficient funds!')\n",
    "\n",
    "# Creating an object\n",
    "account = BankAccount('123456', 1000)\n",
    "\n",
    "# Accessing methods\n",
    "account.deposit(500)  # Output: $500 deposited. New balance: $1500\n",
    "account.withdraw(200)  # Output: $200 withdrawn. New balance: $1300\n",
    "\n",
    "# Accessing private attributes directly (will raise an AttributeError)\n",
    "# print(account.__balance)\n"
   ]
  },
  {
   "cell_type": "code",
   "execution_count": 5,
   "id": "b4144c48",
   "metadata": {},
   "outputs": [
    {
     "ename": "TypeError",
     "evalue": "make_sound() missing 1 required positional argument: 'sound'",
     "output_type": "error",
     "traceback": [
      "\u001b[1;31m---------------------------------------------------------------------------\u001b[0m",
      "\u001b[1;31mTypeError\u001b[0m                                 Traceback (most recent call last)",
      "Cell \u001b[1;32mIn[5], line 17\u001b[0m\n\u001b[0;32m     14\u001b[0m my_bird \u001b[38;5;241m=\u001b[39m Bird(\u001b[38;5;124m'\u001b[39m\u001b[38;5;124mTweety\u001b[39m\u001b[38;5;124m'\u001b[39m)\n\u001b[0;32m     16\u001b[0m \u001b[38;5;66;03m# Using the same method for different objects\u001b[39;00m\n\u001b[1;32m---> 17\u001b[0m \u001b[43manimal_sound\u001b[49m\u001b[43m(\u001b[49m\u001b[43mmy_cat\u001b[49m\u001b[43m)\u001b[49m  \u001b[38;5;66;03m# Output: Kitty says\u001b[39;00m\n\u001b[0;32m     18\u001b[0m animal_sound(my_bird)  \u001b[38;5;66;03m# Output: Tweety chirps!\u001b[39;00m\n",
      "Cell \u001b[1;32mIn[5], line 10\u001b[0m, in \u001b[0;36manimal_sound\u001b[1;34m(animal)\u001b[0m\n\u001b[0;32m      9\u001b[0m \u001b[38;5;28;01mdef\u001b[39;00m \u001b[38;5;21manimal_sound\u001b[39m(animal):\n\u001b[1;32m---> 10\u001b[0m     \u001b[43manimal\u001b[49m\u001b[38;5;241;43m.\u001b[39;49m\u001b[43mmake_sound\u001b[49m\u001b[43m(\u001b[49m\u001b[43m)\u001b[49m\n",
      "\u001b[1;31mTypeError\u001b[0m: make_sound() missing 1 required positional argument: 'sound'"
     ]
    }
   ],
   "source": [
    "class Bird(Animal):\n",
    "    def __init__(self, name):\n",
    "        super().__init__(name, 'Bird')\n",
    "    \n",
    "    def make_sound(self):\n",
    "        print(f'{self.name} chirps!')\n",
    "\n",
    "# Function demonstrating polymorphism\n",
    "def animal_sound(animal):\n",
    "    animal.make_sound()\n",
    "\n",
    "# Creating objects\n",
    "my_cat = Animal('Kitty', 'Cat')\n",
    "my_bird = Bird('Tweety')\n",
    "\n",
    "# Using the same method for different objects\n",
    "animal_sound(my_cat)  # Output: Kitty says\n",
    "animal_sound(my_bird)  # Output: Tweety chirps!\n"
   ]
  },
  {
   "cell_type": "code",
   "execution_count": null,
   "id": "05fb5730",
   "metadata": {},
   "outputs": [],
   "source": []
  },
  {
   "cell_type": "code",
   "execution_count": null,
   "id": "b9ef73f4",
   "metadata": {},
   "outputs": [],
   "source": []
  }
 ],
 "metadata": {
  "kernelspec": {
   "display_name": "Python 3 (ipykernel)",
   "language": "python",
   "name": "python3"
  },
  "language_info": {
   "codemirror_mode": {
    "name": "ipython",
    "version": 3
   },
   "file_extension": ".py",
   "mimetype": "text/x-python",
   "name": "python",
   "nbconvert_exporter": "python",
   "pygments_lexer": "ipython3",
   "version": "3.9.12"
  }
 },
 "nbformat": 4,
 "nbformat_minor": 5
}
